{
 "cells": [
  {
   "cell_type": "code",
   "execution_count": 6,
   "metadata": {},
   "outputs": [],
   "source": [
    "%matplotlib inline\n",
    "import matplotlib.pyplot as plt\n",
    "import pandas as pd \n",
    "import numpy as np"
   ]
  },
  {
   "cell_type": "code",
   "execution_count": 12,
   "metadata": {},
   "outputs": [
    {
     "name": "stdout",
     "output_type": "stream",
     "text": [
      "猜拳遊戲!!!\n",
      "剪刀，石頭，布 請選一個?布\n",
      "電腦出:布\n",
      "Tie!\n"
     ]
    }
   ],
   "source": [
    "print(\"猜拳遊戲!!!\")\n",
    "game = [\"剪刀\", \"石頭\", \"布\"]\n",
    "you = input(\"剪刀，石頭，布 請選一個?\")\n",
    "com = np.random.choice(game)\n",
    "print(\"電腦出:{}\".format(com))\n",
    "if(you==com):\n",
    "    print(\"Tie!\")\n",
    "elif((you == \"石頭\")and(com == \"剪刀\")):\n",
    "    print(\"You Win!\")\n",
    "elif((you == \"剪刀\")and(com == \"布\")):\n",
    "    print(\"You Win!\")\n",
    "elif((you == \"布\")and(com == \"石頭\")):\n",
    "    print(\"You Win!\")\n",
    "else:\n",
    "    print(\"Yor Lose!\")"
   ]
  },
  {
   "cell_type": "code",
   "execution_count": null,
   "metadata": {},
   "outputs": [],
   "source": []
  }
 ],
 "metadata": {
  "kernelspec": {
   "display_name": "Python 3",
   "language": "python",
   "name": "python3"
  },
  "language_info": {
   "codemirror_mode": {
    "name": "ipython",
    "version": 3
   },
   "file_extension": ".py",
   "mimetype": "text/x-python",
   "name": "python",
   "nbconvert_exporter": "python",
   "pygments_lexer": "ipython3",
   "version": "3.7.3"
  }
 },
 "nbformat": 4,
 "nbformat_minor": 2
}
