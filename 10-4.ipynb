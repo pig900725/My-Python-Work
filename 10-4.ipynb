{
 "cells": [
  {
   "cell_type": "code",
   "execution_count": 1,
   "metadata": {},
   "outputs": [],
   "source": [
    "%matplotlib inline\n",
    "import numpy as np\n",
    "import matplotlib.pyplot as plt\n",
    "import pandas as pd"
   ]
  },
  {
   "cell_type": "code",
   "execution_count": null,
   "metadata": {},
   "outputs": [
    {
     "name": "stdout",
     "output_type": "stream",
     "text": [
      "根據國民健康署每人每日需攝取一定營養素\n",
      "此單位能為您計算每日所需營養素\n"
     ]
    }
   ],
   "source": [
    "print('根據國民健康署每人每日需攝取一定營養素')\n",
    "print('此單位能為您計算每日所需營養素')\n",
    "a=float(input('請輸入您的體重'))\n",
    "b=a/20\n",
    "print('每日所需水果為: '+str(round(2*a/60,1))+'碗')\n",
    "print('每日所需全榖雜糧為: '+str(round(a/20,1))+'碗')\n",
    "print('每日所需蔬菜為: '+str(round(2*(a+1)/3,1))+'碗')\n",
    "print('每日所需豆魚蛋肉為: '+str(round(a/10,1))+'份(一份約為半手掌大)')"
   ]
  },
  {
   "cell_type": "code",
   "execution_count": null,
   "metadata": {},
   "outputs": [],
   "source": []
  }
 ],
 "metadata": {
  "kernelspec": {
   "display_name": "Python 3",
   "language": "python",
   "name": "python3"
  },
  "language_info": {
   "codemirror_mode": {
    "name": "ipython",
    "version": 3
   },
   "file_extension": ".py",
   "mimetype": "text/x-python",
   "name": "python",
   "nbconvert_exporter": "python",
   "pygments_lexer": "ipython3",
   "version": "3.7.3"
  }
 },
 "nbformat": 4,
 "nbformat_minor": 2
}
