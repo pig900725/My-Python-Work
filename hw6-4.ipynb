{
 "cells": [
  {
   "cell_type": "code",
   "execution_count": 15,
   "metadata": {},
   "outputs": [
    {
     "name": "stdout",
     "output_type": "stream",
     "text": [
      "請輸入你的出生月:11\n",
      "請輸入你的出生日:3\n",
      "是天蠍座\n"
     ]
    }
   ],
   "source": [
    "a=int(input('請輸入你的出生月:'))\n",
    "if a==1:\n",
    "    b=int(input('請輸入你的出生日:'))\n",
    "    if 1<=b<=19:\n",
    "        print('是摩羯座')\n",
    "    elif 20<=b<=31:\n",
    "        print('是水瓶座')\n",
    "elif a==2:\n",
    "    b=int(input('請輸入你的出生日:'))\n",
    "    if 1<=b<=18:\n",
    "        print('是水瓶座')\n",
    "    elif 19<=b<=28:\n",
    "        print(\"是雙魚座\")\n",
    "elif a==3:\n",
    "    b=int(input('請輸入你的出生日:'))\n",
    "    if 1<=b<=20:\n",
    "        print('是雙魚座')\n",
    "    elif 21<=b<=31:\n",
    "        print('是牡羊座')\n",
    "elif a==4:\n",
    "    b=int(input('請輸入你的出生日:'))\n",
    "    if 1<=b<=19:\n",
    "        print('是牡羊座')\n",
    "    elif 20<=b<=30:\n",
    "        print('是金牛座')\n",
    "elif a==5:\n",
    "    b=int(input('請輸入你的出生日:'))\n",
    "    if 1<=b<=20:\n",
    "        print('是金牛座')\n",
    "    elif 21<=b<=31:\n",
    "        print('是雙子座')\n",
    "elif a==6:\n",
    "    b=int(input('請輸入你的出生日:'))\n",
    "    if 1<=b<=21:\n",
    "        print('是雙子座')\n",
    "    elif 22<=b<=30:\n",
    "        print('是巨蟹座')\n",
    "elif a==7:\n",
    "    b=int(input('請輸入你的出生日:'))\n",
    "    if 1<=b<=22:\n",
    "        print('是巨蟹座')\n",
    "    elif 23<=b<=31:\n",
    "        print('是獅子座')\n",
    "elif a==8:\n",
    "    b=int(input('請輸入你的出生日:'))\n",
    "    if 1<=b<=22:\n",
    "        print('是獅子座')\n",
    "    elif 23<=b<=31:\n",
    "        print('是處女座')\n",
    "elif a==9:\n",
    "    b=int(input('請輸入你的出生日:'))\n",
    "    if 1<=b<=22:\n",
    "        print('是處女座')\n",
    "    elif 23<=b<=30:\n",
    "        print('是天秤座')\n",
    "elif a==10:\n",
    "    b=int(input('請輸入你的出生日:'))\n",
    "    if 1<=b<=23:\n",
    "        print('是天秤座')\n",
    "    elif 24<=b<=31:\n",
    "        print('是天蠍座')\n",
    "elif a==11:\n",
    "    b=int(input('請輸入你的出生日:'))\n",
    "    if 1<=b<=22:\n",
    "        print('是天蠍座')\n",
    "    elif 23<=b<=30:\n",
    "        print('是射手座')\n",
    "elif a==12:\n",
    "    b=int(input('請輸入你的出生日:'))\n",
    "    if 1<=b<=21:\n",
    "        print('是射手座')\n",
    "    elif 22<=b<=31:\n",
    "        print('是摩羯座')\n",
    "else:\n",
    "    print('你有啥毛病')"
   ]
  },
  {
   "cell_type": "code",
   "execution_count": null,
   "metadata": {},
   "outputs": [],
   "source": []
  }
 ],
 "metadata": {
  "kernelspec": {
   "display_name": "Python 3",
   "language": "python",
   "name": "python3"
  },
  "language_info": {
   "codemirror_mode": {
    "name": "ipython",
    "version": 3
   },
   "file_extension": ".py",
   "mimetype": "text/x-python",
   "name": "python",
   "nbconvert_exporter": "python",
   "pygments_lexer": "ipython3",
   "version": "3.7.3"
  }
 },
 "nbformat": 4,
 "nbformat_minor": 2
}
