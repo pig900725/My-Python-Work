{
 "cells": [
  {
   "cell_type": "code",
   "execution_count": 2,
   "metadata": {},
   "outputs": [],
   "source": [
    "%matplotlib inline\n",
    "\n",
    "import numpy as np \n",
    "import matplotlib.pyplot as pit \n",
    "import pandas as pd"
   ]
  },
  {
   "cell_type": "code",
   "execution_count": 5,
   "metadata": {},
   "outputs": [
    {
     "name": "stdout",
     "output_type": "stream",
     "text": [
      "請輸入西元年2100\n",
      "該年為平年\n"
     ]
    }
   ],
   "source": [
    "y = int(input(\"請輸入西元年\"))\n",
    "if(y % 4)==0:\n",
    "    if(y % 100)==0:\n",
    "        if(y % 400)==0:\n",
    "            print(\"該年為閏年\")\n",
    "        else:\n",
    "            print(\"該年為平年\")\n",
    "    else:\n",
    "        print(\"該年為平年\")\n",
    "else:\n",
    "    print(\"該年為平年\")"
   ]
  },
  {
   "cell_type": "code",
   "execution_count": null,
   "metadata": {},
   "outputs": [],
   "source": []
  }
 ],
 "metadata": {
  "kernelspec": {
   "display_name": "Python 3",
   "language": "python",
   "name": "python3"
  },
  "language_info": {
   "codemirror_mode": {
    "name": "ipython",
    "version": 3
   },
   "file_extension": ".py",
   "mimetype": "text/x-python",
   "name": "python",
   "nbconvert_exporter": "python",
   "pygments_lexer": "ipython3",
   "version": "3.7.3"
  }
 },
 "nbformat": 4,
 "nbformat_minor": 2
}
