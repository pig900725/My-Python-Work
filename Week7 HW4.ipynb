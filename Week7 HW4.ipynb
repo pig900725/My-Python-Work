{
 "cells": [
  {
   "cell_type": "code",
   "execution_count": 1,
   "metadata": {},
   "outputs": [],
   "source": [
    "%matplotlib inline\n",
    "\n",
    "import numpy as np\n",
    "import matplotlib.pyplot as plt\n",
    "import pandas as pd"
   ]
  },
  {
   "cell_type": "code",
   "execution_count": 5,
   "metadata": {},
   "outputs": [
    {
     "name": "stdout",
     "output_type": "stream",
     "text": [
      "請輸入第一個邊長:8\n",
      "請輸入第二個邊長:15\n",
      "請輸入第三個邊長:17\n",
      "直角三角形\n"
     ]
    }
   ],
   "source": [
    "n1=int(input(\"請輸入第一個邊長:\"))\n",
    "n2=int(input(\"請輸入第二個邊長:\"))\n",
    "n3=int(input(\"請輸入第三個邊長:\"))\n",
    "\n",
    "if n1+n2>n3 and n1+n3>n2 and n2+n3>n1:\n",
    "    if n1==n2==n3:\n",
    "        print(\"正三角形\")\n",
    "    elif n1==n2 or n2==n3 or n1==n3:\n",
    "        print(\"等腰三角形\")\n",
    "    elif n1**2+n2**2==n3**2 or n1**2+n3**2==n2**2 or n3**2+n2**2==n1**2:\n",
    "        print(\"直角三角形\")\n",
    "    else:\n",
    "        print(\"一般三角形\")\n",
    "else:\n",
    "    print(\"無法組成三角形\")"
   ]
  },
  {
   "cell_type": "code",
   "execution_count": null,
   "metadata": {},
   "outputs": [],
   "source": []
  }
 ],
 "metadata": {
  "kernelspec": {
   "display_name": "Python 3",
   "language": "python",
   "name": "python3"
  },
  "language_info": {
   "codemirror_mode": {
    "name": "ipython",
    "version": 3
   },
   "file_extension": ".py",
   "mimetype": "text/x-python",
   "name": "python",
   "nbconvert_exporter": "python",
   "pygments_lexer": "ipython3",
   "version": "3.7.3"
  }
 },
 "nbformat": 4,
 "nbformat_minor": 2
}
