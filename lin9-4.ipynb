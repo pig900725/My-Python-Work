{
 "cells": [
  {
   "cell_type": "code",
   "execution_count": 1,
   "metadata": {},
   "outputs": [
    {
     "name": "stdout",
     "output_type": "stream",
     "text": [
      "請輸入要倒數的秒數:10\n",
      "倒數 10 秒...\n",
      "倒數 9 秒...\n",
      "倒數 8 秒...\n",
      "倒數 7 秒...\n",
      "倒數 6 秒...\n",
      "倒數 5 秒...\n",
      "倒數 4 秒...\n",
      "倒數 3 秒...\n",
      "倒數 2 秒...\n",
      "倒數 1 秒...\n",
      "時間到!\n"
     ]
    }
   ],
   "source": [
    "import time\n",
    "\n",
    "secs = eval(input(\"請輸入要倒數的秒數:\"))\n",
    "\n",
    "for i in range(secs, 0, -1):\n",
    "    print(\"倒數\", i, \"秒...\")\n",
    "    time.sleep(1)\n",
    "    \n",
    "print(\"時間到!\")"
   ]
  },
  {
   "cell_type": "code",
   "execution_count": null,
   "metadata": {},
   "outputs": [],
   "source": []
  }
 ],
 "metadata": {
  "kernelspec": {
   "display_name": "Python 3",
   "language": "python",
   "name": "python3"
  },
  "language_info": {
   "codemirror_mode": {
    "name": "ipython",
    "version": 3
   },
   "file_extension": ".py",
   "mimetype": "text/x-python",
   "name": "python",
   "nbconvert_exporter": "python",
   "pygments_lexer": "ipython3",
   "version": "3.7.3"
  }
 },
 "nbformat": 4,
 "nbformat_minor": 2
}
