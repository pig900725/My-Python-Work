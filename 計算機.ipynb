{
 "cells": [
  {
   "cell_type": "code",
   "execution_count": 5,
   "metadata": {},
   "outputs": [
    {
     "name": "stdout",
     "output_type": "stream",
     "text": [
      "請輸入一數字21\n",
      "請輸入一數字3\n",
      "要將兩數如何運算/\n",
      "21/3=7\n"
     ]
    }
   ],
   "source": [
    "a=int(input('請輸入一數字'))\n",
    "b=int(input('請輸入一數字'))\n",
    "c=input('要將兩數如何運算')\n",
    "if c=='*':\n",
    "    print(a,'*',b,'=',a*b,sep='')\n",
    "elif c=='+':\n",
    "    print(a,'+',b,'=',a+b,sep='')\n",
    "elif c==\"-\":\n",
    "    print(a,'-',b,'=',a-b,sep='')\n",
    "elif c=='/':\n",
    "    print(a,'/',b,'=',int(a/b),sep='')"
   ]
  },
  {
   "cell_type": "code",
   "execution_count": null,
   "metadata": {},
   "outputs": [],
   "source": []
  },
  {
   "cell_type": "code",
   "execution_count": null,
   "metadata": {},
   "outputs": [],
   "source": []
  }
 ],
 "metadata": {
  "kernelspec": {
   "display_name": "Python 3",
   "language": "python",
   "name": "python3"
  },
  "language_info": {
   "codemirror_mode": {
    "name": "ipython",
    "version": 3
   },
   "file_extension": ".py",
   "mimetype": "text/x-python",
   "name": "python",
   "nbconvert_exporter": "python",
   "pygments_lexer": "ipython3",
   "version": "3.7.3"
  }
 },
 "nbformat": 4,
 "nbformat_minor": 2
}
