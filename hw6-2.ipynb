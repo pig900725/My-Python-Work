{
 "cells": [
  {
   "cell_type": "code",
   "execution_count": 2,
   "metadata": {},
   "outputs": [
    {
     "name": "stdout",
     "output_type": "stream",
     "text": [
      "輸入一數字:600\n",
      "600=2*2*2*3*5*5\n"
     ]
    }
   ],
   "source": [
    "num=int(input('輸入一數字:'))\n",
    "arr=[]\n",
    "tmp=num\n",
    "while tmp!=1:\n",
    "    pri=2\n",
    "    while pri !=(num+1):\n",
    "        if (tmp%pri)==0:\n",
    "            tmp =tmp//pri\n",
    "            arr.append(pri)\n",
    "        else:\n",
    "            pri +=1\n",
    "exp='*'.join(map(str,arr))\n",
    "print('%d=%s'%(num,exp))"
   ]
  },
  {
   "cell_type": "code",
   "execution_count": null,
   "metadata": {},
   "outputs": [],
   "source": []
  }
 ],
 "metadata": {
  "kernelspec": {
   "display_name": "Python 3",
   "language": "python",
   "name": "python3"
  },
  "language_info": {
   "codemirror_mode": {
    "name": "ipython",
    "version": 3
   },
   "file_extension": ".py",
   "mimetype": "text/x-python",
   "name": "python",
   "nbconvert_exporter": "python",
   "pygments_lexer": "ipython3",
   "version": "3.7.3"
  }
 },
 "nbformat": 4,
 "nbformat_minor": 2
}
