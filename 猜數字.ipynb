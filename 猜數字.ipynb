{
 "cells": [
  {
   "cell_type": "code",
   "execution_count": 7,
   "metadata": {},
   "outputs": [
    {
     "name": "stdout",
     "output_type": "stream",
     "text": [
      "從1-100猜一個數字20\n",
      "再大一點\n",
      "從1-100猜一個數字30\n",
      "再大一點\n",
      "從1-100猜一個數字50\n",
      "再大一點\n",
      "從1-100猜一個數字70\n",
      "再大一點\n",
      "從1-100猜一個數字80\n",
      "再大一點\n",
      "從1-100猜一個數字90\n",
      "再大一點\n",
      "從1-100猜一個數字100\n",
      "再小一點\n",
      "從1-100猜一個數字95\n",
      "再大一點\n",
      "從1-100猜一個數字99\n",
      "再小一點\n",
      "從1-100猜一個數字97\n",
      "再大一點\n",
      "從1-100猜一個數字98\n",
      "賓果\n"
     ]
    }
   ],
   "source": [
    "n = \" \"\n",
    "a = randint(1,101)\n",
    "\n",
    "while n != a:\n",
    "        n=int(input(\"從1-100猜一個數字\"))\n",
    "        if(n>a):\n",
    "            print('再小一點')\n",
    "        elif(n<a):\n",
    "            print('再大一點')\n",
    "        else:\n",
    "            print(\"賓果\")"
   ]
  },
  {
   "cell_type": "code",
   "execution_count": 5,
   "metadata": {},
   "outputs": [],
   "source": [
    "from numpy.random import randint"
   ]
  },
  {
   "cell_type": "code",
   "execution_count": null,
   "metadata": {},
   "outputs": [],
   "source": []
  }
 ],
 "metadata": {
  "kernelspec": {
   "display_name": "Python 3",
   "language": "python",
   "name": "python3"
  },
  "language_info": {
   "codemirror_mode": {
    "name": "ipython",
    "version": 3
   },
   "file_extension": ".py",
   "mimetype": "text/x-python",
   "name": "python",
   "nbconvert_exporter": "python",
   "pygments_lexer": "ipython3",
   "version": "3.7.3"
  }
 },
 "nbformat": 4,
 "nbformat_minor": 2
}
