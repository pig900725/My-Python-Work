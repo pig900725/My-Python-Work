{
 "cells": [
  {
   "cell_type": "code",
   "execution_count": 2,
   "metadata": {},
   "outputs": [],
   "source": [
    "%matplotlib inline\n",
    "import numpy as np\n",
    "import matplotlib.pyplot as plt\n",
    "import pandas as pd\n",
    "from ipywidgets import interact"
   ]
  },
  {
   "cell_type": "code",
   "execution_count": 7,
   "metadata": {},
   "outputs": [],
   "source": [
    "x = ['國文','英文','數甲','數乙','物理','化學','生物','歷史','地理','公民']\n",
    "score = np.zeros(10)\n",
    "y = 0.0\n",
    "weight = {\n",
    "    \"法律系\": [1, 2, 0, 1, 0, 0, 0, 1, 0, 1],\n",
    "    \"阿語系\": [1.5, 1.5, 0, 1, 0, 0, 0, 1.25, 1, 0],\n",
    "    \"中文系\": [1.5, 1.25, 1, 0, 0, 0, 0, 1, 0, 0],\n",
    "    \"國貿系\": [1.5, 2, 0, 2, 0, 0, 0, 0, 0, 0],\n",
    "    \"會計系\": [1.5, 2, 0, 2, 0, 0, 0, 1, 1, 0],\n",
    "    \"財管系\": [1, 2, 0, 2, 0, 0, 0, 1, 0, 1],\n",
    "    \"風管系\": [1, 1.5, 0, 1.5, 0, 0, 0, 0, 0, 0],\n",
    "    \"應數系\": [1, 1, 1.5, 0, 1, 1, 0, 0, 0, 0],\n",
    "    \"心理系\": [1, 1.25, 1, 0, 0, 0, 0, 0, 0, 0]\n",
    "}"
   ]
  },
  {
   "cell_type": "code",
   "execution_count": 8,
   "metadata": {},
   "outputs": [
    {
     "name": "stdout",
     "output_type": "stream",
     "text": [
      "請輸入國文分數100\n",
      "請輸入英文分數100\n",
      "請輸入數甲分數100\n",
      "請輸入數乙分數100\n",
      "請輸入物理分數100\n",
      "請輸入化學分數100\n",
      "請輸入生物分數100\n",
      "請輸入歷史分數100\n",
      "請輸入地理分數100\n",
      "請輸入公民分數100\n"
     ]
    },
    {
     "data": {
      "application/vnd.jupyter.widget-view+json": {
       "model_id": "eaa52adb9bb044a0835f67497a142a79",
       "version_major": 2,
       "version_minor": 0
      },
      "text/plain": [
       "interactive(children=(Dropdown(description='系別', options=('國貿系', '心理系', '財管系', '應數系', '阿語系', '風管系', '法律系', '會計…"
      ]
     },
     "metadata": {},
     "output_type": "display_data"
    }
   ],
   "source": [
    "for i in range(10):\n",
    "    score[i] = input(\"請輸入{}分數\".format(x[i]))\n",
    "def WG(系別):\n",
    "    y = np.dot(weight[系別],score)\n",
    "    print('選擇{}，加權成績為{:.1f}'.format(系別,y))\n",
    "interact(WG,系別={\"法律系\",\"阿語系\",\"中文系\",\"國貿系\",\"會計系\",\"財管系\",\"風管系\",\"應數系\",\"心理系\"});"
   ]
  },
  {
   "cell_type": "markdown",
   "metadata": {},
   "source": []
  }
 ],
 "metadata": {
  "kernelspec": {
   "display_name": "Python 3",
   "language": "python",
   "name": "python3"
  },
  "language_info": {
   "codemirror_mode": {
    "name": "ipython",
    "version": 3
   },
   "file_extension": ".py",
   "mimetype": "text/x-python",
   "name": "python",
   "nbconvert_exporter": "python",
   "pygments_lexer": "ipython3",
   "version": "3.7.3"
  }
 },
 "nbformat": 4,
 "nbformat_minor": 2
}
