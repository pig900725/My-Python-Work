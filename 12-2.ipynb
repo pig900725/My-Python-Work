{
 "cells": [
  {
   "cell_type": "code",
   "execution_count": null,
   "metadata": {},
   "outputs": [],
   "source": [
    "from random import randint\n",
    "number = randint(1,100) \n",
    "a = 1\n",
    "b = 100\n",
    "while True:\n",
    "    guess_num = int(input('請猜一個1-100之間的數字:'))\n",
    "    if guess_num == number:\n",
    "        print('恭喜你猜對了，數字是:',number)\n",
    "        break\n",
    "    elif guess_num > number:\n",
    "        b = guess_num\n",
    "        print(f'請再猜一個小一點的數字。在{a}到{b}')\n",
    "    elif guess_num < number:\n",
    "        a = guess_num\n",
    "        print(f'請再猜一個大一點的數字。在{a}到{b}之間')\n"
   ]
  },
  {
   "cell_type": "code",
   "execution_count": null,
   "metadata": {},
   "outputs": [],
   "source": []
  }
 ],
 "metadata": {
  "kernelspec": {
   "display_name": "Python 3",
   "language": "python",
   "name": "python3"
  },
  "language_info": {
   "codemirror_mode": {
    "name": "ipython",
    "version": 3
   },
   "file_extension": ".py",
   "mimetype": "text/x-python",
   "name": "python",
   "nbconvert_exporter": "python",
   "pygments_lexer": "ipython3",
   "version": "3.7.3"
  }
 },
 "nbformat": 4,
 "nbformat_minor": 2
}
