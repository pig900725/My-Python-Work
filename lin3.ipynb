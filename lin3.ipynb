{
 "cells": [
  {
   "cell_type": "code",
   "execution_count": 17,
   "metadata": {},
   "outputs": [
    {
     "name": "stdout",
     "output_type": "stream",
     "text": [
      "請輸入一數字當範圍的最小值:100\n",
      "請輸入一數字當範圍的最大值:1\n",
      "最小值不能大於最大值嘿\n"
     ]
    }
   ],
   "source": [
    "a=int(input('請輸入一數字當範圍的最小值:'))\n",
    "b=int(input('請輸入一數字當範圍的最大值:'))\n",
    "if b >= a :\n",
    "    for i in range(a,b+1):\n",
    "        if i>1:\n",
    "            for k in range(2,i):\n",
    "                if (i%k)==0:\n",
    "                    break\n",
    "            else:\n",
    "                print(i)\n",
    "else:\n",
    "    print('最小值不能大於最大值嘿')"
   ]
  },
  {
   "cell_type": "code",
   "execution_count": 50,
   "metadata": {
    "scrolled": true
   },
   "outputs": [
    {
     "name": "stdout",
     "output_type": "stream",
     "text": [
      "i*j=1\n",
      "i*j=2\n",
      "i*j=4\n",
      "i*j=3\n",
      "i*j=6\n",
      "i*j=9\n",
      "i*j=4\n",
      "i*j=8\n",
      "i*j=12\n",
      "i*j=16\n",
      "i*j=5\n",
      "i*j=10\n",
      "i*j=15\n",
      "i*j=20\n",
      "i*j=25\n",
      "i*j=6\n",
      "i*j=12\n",
      "i*j=18\n",
      "i*j=24\n",
      "i*j=30\n",
      "i*j=36\n",
      "i*j=7\n",
      "i*j=14\n",
      "i*j=21\n",
      "i*j=28\n",
      "i*j=35\n",
      "i*j=42\n",
      "i*j=49\n",
      "i*j=8\n",
      "i*j=16\n",
      "i*j=24\n",
      "i*j=32\n",
      "i*j=40\n",
      "i*j=48\n",
      "i*j=56\n",
      "i*j=64\n",
      "i*j=9\n",
      "i*j=18\n",
      "i*j=27\n",
      "i*j=36\n",
      "i*j=45\n",
      "i*j=54\n",
      "i*j=63\n",
      "i*j=72\n",
      "i*j=81\n"
     ]
    }
   ],
   "source": [
    "for i in range(1,10):\n",
    "    for j in range(1,i+1):\n",
    "        print('i*j=',i*j,sep='')"
   ]
  },
  {
   "cell_type": "code",
   "execution_count": null,
   "metadata": {},
   "outputs": [],
   "source": []
  }
 ],
 "metadata": {
  "kernelspec": {
   "display_name": "Python 3",
   "language": "python",
   "name": "python3"
  },
  "language_info": {
   "codemirror_mode": {
    "name": "ipython",
    "version": 3
   },
   "file_extension": ".py",
   "mimetype": "text/x-python",
   "name": "python",
   "nbconvert_exporter": "python",
   "pygments_lexer": "ipython3",
   "version": "3.7.3"
  }
 },
 "nbformat": 4,
 "nbformat_minor": 2
}
