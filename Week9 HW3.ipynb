{
 "cells": [
  {
   "cell_type": "code",
   "execution_count": 1,
   "metadata": {},
   "outputs": [],
   "source": [
    "%matplotlib inline\n",
    "\n",
    "import numpy as np\n",
    "import matplotlib.pyplot as plt\n",
    "import pandas as pd"
   ]
  },
  {
   "cell_type": "code",
   "execution_count": null,
   "metadata": {},
   "outputs": [
    {
     "name": "stdout",
     "output_type": "stream",
     "text": [
      "輸入本期中獎號碼:66666666\n",
      "開始對獎~\n",
      "輸入後三碼:666\n",
      "有機會喔!請輸入完整號碼：12345666\n",
      "虛驚一場QQ\n"
     ]
    }
   ],
   "source": [
    "prizes = []\n",
    "pri = input(\"輸入本期中獎號碼:\")\n",
    "print('開始對獎~')\n",
    "while True:\n",
    "    num = input(\"輸入後三碼:\")\n",
    "    if num == 'q':\n",
    "        break       \n",
    "    elif num == pri[-3:]:\n",
    "        full = input(\"有機會喔!請輸入完整號碼：\")\n",
    "        if full == pri:\n",
    "            print(\"恭喜中獎!\")\n",
    "        else:\n",
    "            print(\"虛驚一場QQ\")\n",
    "    else:\n",
    "        print('下期再努力!')"
   ]
  },
  {
   "cell_type": "code",
   "execution_count": null,
   "metadata": {},
   "outputs": [],
   "source": []
  }
 ],
 "metadata": {
  "kernelspec": {
   "display_name": "Python 3",
   "language": "python",
   "name": "python3"
  },
  "language_info": {
   "codemirror_mode": {
    "name": "ipython",
    "version": 3
   },
   "file_extension": ".py",
   "mimetype": "text/x-python",
   "name": "python",
   "nbconvert_exporter": "python",
   "pygments_lexer": "ipython3",
   "version": "3.7.3"
  }
 },
 "nbformat": 4,
 "nbformat_minor": 2
}
