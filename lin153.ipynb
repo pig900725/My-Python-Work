{
 "cells": [
  {
   "cell_type": "code",
   "execution_count": 9,
   "metadata": {},
   "outputs": [
    {
     "name": "stdout",
     "output_type": "stream",
     "text": [
      "從1到100猜一個數字,只有兩次機會69\n",
      "恭喜猜對\n"
     ]
    }
   ],
   "source": [
    "ans=69\n",
    "a=int(input('從1到100猜一個數字,只有兩次機會'))\n",
    "c=0\n",
    "while c!=2:\n",
    "    if ans==a:\n",
    "        print(\"恭喜猜對\")\n",
    "        break\n",
    "    else:\n",
    "        c+=1\n",
    "        a=int(input('在猜一次'))\n",
    "else:\n",
    "    print('可惜都不是')"
   ]
  },
  {
   "cell_type": "code",
   "execution_count": null,
   "metadata": {},
   "outputs": [],
   "source": []
  }
 ],
 "metadata": {
  "kernelspec": {
   "display_name": "Python 3",
   "language": "python",
   "name": "python3"
  },
  "language_info": {
   "codemirror_mode": {
    "name": "ipython",
    "version": 3
   },
   "file_extension": ".py",
   "mimetype": "text/x-python",
   "name": "python",
   "nbconvert_exporter": "python",
   "pygments_lexer": "ipython3",
   "version": "3.7.3"
  }
 },
 "nbformat": 4,
 "nbformat_minor": 2
}
