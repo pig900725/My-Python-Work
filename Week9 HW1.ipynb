{
 "cells": [
  {
   "cell_type": "code",
   "execution_count": 5,
   "metadata": {},
   "outputs": [],
   "source": [
    "%matplotlib inline\n",
    "\n",
    "import numpy as np\n",
    "import matplotlib.pyplot as plt\n",
    "import pandas as pd\n",
    "import random"
   ]
  },
  {
   "cell_type": "code",
   "execution_count": 7,
   "metadata": {},
   "outputs": [
    {
     "name": "stdout",
     "output_type": "stream",
     "text": [
      "您要玩雙贏彩\n",
      "您的雙贏彩號碼為：[14 10 19  3 12 16 16  9 23  1  1 16]\n"
     ]
    }
   ],
   "source": [
    "lottery=input(\"您要玩\")\n",
    "\n",
    "if(lottery == \"大樂透\"):\n",
    "    p = np.random.randint(low=1,high=38,size=6)\n",
    "    print(\"您的大樂透號碼為：\" + str(p))\n",
    "elif(lottery == \"威力彩\"):\n",
    "    q = np.random.randint(low=1,high=49,size=6)\n",
    "    print(\"您的威力彩號碼為：\" + str(q))\n",
    "elif(lottery == \"雙贏彩\"):\n",
    "    q = np.random.randint(low=1,high=24,size=12)\n",
    "    print(\"您的雙贏彩號碼為：\" + str(q))\n",
    "else:\n",
    "    print(\"格式錯誤\")"
   ]
  },
  {
   "cell_type": "code",
   "execution_count": null,
   "metadata": {},
   "outputs": [],
   "source": []
  }
 ],
 "metadata": {
  "kernelspec": {
   "display_name": "Python 3",
   "language": "python",
   "name": "python3"
  },
  "language_info": {
   "codemirror_mode": {
    "name": "ipython",
    "version": 3
   },
   "file_extension": ".py",
   "mimetype": "text/x-python",
   "name": "python",
   "nbconvert_exporter": "python",
   "pygments_lexer": "ipython3",
   "version": "3.7.3"
  }
 },
 "nbformat": 4,
 "nbformat_minor": 2
}
