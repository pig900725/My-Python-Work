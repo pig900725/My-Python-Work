{
 "cells": [
  {
   "cell_type": "code",
   "execution_count": 2,
   "metadata": {},
   "outputs": [],
   "source": [
    "%matplotlib inline\n",
    "import numpy as np\n",
    "import matplotlib.pyplot as plt\n",
    "import pandas as pd\n",
    "from IPython.display import YouTubeVideo,HTML\n",
    "import time\n",
    "from urllib.request import urlopen"
   ]
  },
  {
   "cell_type": "code",
   "execution_count": null,
   "metadata": {},
   "outputs": [],
   "source": [
    "e=e=input('今天心情如何？')\n",
    "site=()\n",
    "if (\"開心\"or\"嗨\"or\"高興\"or\"很好\"or\"快樂\"or\"不錯\")in e:\n",
    "    site=(YouTubeVideo('ru0K8uYEZWw'))\n",
    "    display(site)\n",
    "    time.sleep(1)\n",
    "    print('更多歌曲請前往：https://www.youtube.com/watch?v=S4JLJVVjevI')\n",
    "elif(\"不好\")or(\"不太好\")or(\"糟透了\")or(\"很差\")or(\"崩潰\")or(\"憂鬱\")or(\"絕望\")in e:\n",
    "    site=(YouTubeVideo('o9oy05nc9oM'))\n",
    "    display(site)\n",
    "    time.sleep(1)\n",
    "    print('更多歌曲請前往：https://www.youtube.com/watch?v=7XlqcS6B7WA')"
   ]
  },
  {
   "cell_type": "code",
   "execution_count": null,
   "metadata": {},
   "outputs": [],
   "source": []
  }
 ],
 "metadata": {
  "kernelspec": {
   "display_name": "Python 3",
   "language": "python",
   "name": "python3"
  },
  "language_info": {
   "codemirror_mode": {
    "name": "ipython",
    "version": 3
   },
   "file_extension": ".py",
   "mimetype": "text/x-python",
   "name": "python",
   "nbconvert_exporter": "python",
   "pygments_lexer": "ipython3",
   "version": "3.7.3"
  }
 },
 "nbformat": 4,
 "nbformat_minor": 2
}
