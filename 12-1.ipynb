{
 "cells": [
  {
   "cell_type": "code",
   "execution_count": 1,
   "metadata": {},
   "outputs": [],
   "source": [
    "import matplotlib.pyplot as plt\n",
    "import numpy as np\n",
    "import pandas as pd"
   ]
  },
  {
   "cell_type": "code",
   "execution_count": null,
   "metadata": {},
   "outputs": [],
   "source": [
    "grades = input('請輸入成績:').split()\n",
    "credits = input('請輸入分別學分數').split()\n",
    "\n",
    "grades = [float(i) for i in grades]\n",
    "credits = [int(i) for i in credits]\n",
    "n = 0\n",
    "while n < len(grades):\n",
    "    if grades[n] >= 90:\n",
    "      grades[n] = 4.3\n",
    "    elif 85 <= grades[n] <= 89:\n",
    "      grades[n] = 4\n",
    "    elif 80 <= grades[n] <= 84:\n",
    "      grades[n] = 3.7\n",
    "    elif 77 <= grades[n] <= 79:\n",
    "      grades[n] = 3.4\n",
    "    elif 73 <= grades[n] <= 76:\n",
    "      grades[n] = 3\n",
    "    elif 70 <= grades[n] <= 72:\n",
    "      grades[n] = 2.7\n",
    "    elif 67 <= grades[n] <= 69:\n",
    "      grades[n] = 2.3\n",
    "    elif 63 <= grades[n] <= 66:\n",
    "      grades[n] = 2\n",
    "    elif 60 <= grades[n] <= 62:\n",
    "      grades[n] = 1.7\n",
    "    elif 50 <= grades[n] <= 59:\n",
    "      grades[n] = 1\n",
    "    else:\n",
    "      grades[n] = 0\n",
    "    n += 1\n",
    "\n",
    "gpalist = np.array(grades)@np.array(credits)\n",
    "a = np.array(credits)\n",
    "gpa = gpalist.sum()/a.sum()\n",
    "print(gpa)"
   ]
  },
  {
   "cell_type": "code",
   "execution_count": null,
   "metadata": {},
   "outputs": [],
   "source": []
  }
 ],
 "metadata": {
  "kernelspec": {
   "display_name": "Python 3",
   "language": "python",
   "name": "python3"
  },
  "language_info": {
   "codemirror_mode": {
    "name": "ipython",
    "version": 3
   },
   "file_extension": ".py",
   "mimetype": "text/x-python",
   "name": "python",
   "nbconvert_exporter": "python",
   "pygments_lexer": "ipython3",
   "version": "3.7.3"
  }
 },
 "nbformat": 4,
 "nbformat_minor": 2
}
