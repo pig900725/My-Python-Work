{
 "cells": [
  {
   "cell_type": "code",
   "execution_count": 1,
   "metadata": {},
   "outputs": [],
   "source": [
    "%matplotlib inline\n",
    "import numpy as np\n",
    "import matplotlib.pyplot as plt"
   ]
  },
  {
   "cell_type": "code",
   "execution_count": null,
   "metadata": {},
   "outputs": [],
   "source": [
    "spam=input(\"請輸入你(妳)的體重(kg):\")\n",
    "spam=float(spam)\n",
    "ham=input(\"請輸入你(妳)的身高(cm):\")\n",
    "ham=float(ham)\n",
    "BMI=spam/(ham/100)**2\n",
    "if (BMI<18.5):\n",
    "    print(\"你(妳)的BMI是%.2f\"%(BMI))\n",
    "    print(\"過輕\")\n",
    "elif (18.5<=BMI<=25.0):\n",
    "    print(\"你(妳)的BMI是%.2f\"%(BMI))\n",
    "    print(\"適中\")\n",
    "else:\n",
    "    print(\"你(妳)的BMI是%.2f\"%(BMI))\n",
    "    print(\"過重\")  "
   ]
  },
  {
   "cell_type": "code",
   "execution_count": null,
   "metadata": {},
   "outputs": [],
   "source": []
  }
 ],
 "metadata": {
  "kernelspec": {
   "display_name": "Python 3",
   "language": "python",
   "name": "python3"
  },
  "language_info": {
   "codemirror_mode": {
    "name": "ipython",
    "version": 3
   },
   "file_extension": ".py",
   "mimetype": "text/x-python",
   "name": "python",
   "nbconvert_exporter": "python",
   "pygments_lexer": "ipython3",
   "version": "3.7.3"
  }
 },
 "nbformat": 4,
 "nbformat_minor": 2
}
