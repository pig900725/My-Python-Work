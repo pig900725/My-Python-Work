{
 "cells": [
  {
   "cell_type": "code",
   "execution_count": 1,
   "metadata": {},
   "outputs": [],
   "source": [
    "%matplotlib inline\n",
    "\n",
    "import numpy as np \n",
    "import matplotlib.pyplot as plt \n",
    "import pandas as pd"
   ]
  },
  {
   "cell_type": "code",
   "execution_count": 11,
   "metadata": {},
   "outputs": [],
   "source": [
    "from numpy.random import randint"
   ]
  },
  {
   "cell_type": "code",
   "execution_count": 12,
   "metadata": {},
   "outputs": [],
   "source": [
    "word ='''\n",
    "我\n",
    "你\n",
    "他\n",
    "我的\n",
    "你的\n",
    "他的\n",
    "薄暮\n",
    "濫觴\n",
    "驚鴻\n",
    "背影\n",
    "蒼海\n",
    "匆匆\n",
    "溟濛\n",
    "闃靜\n",
    "驀然回首\n",
    "白雲蒼狗'''"
   ]
  },
  {
   "cell_type": "code",
   "execution_count": 13,
   "metadata": {},
   "outputs": [],
   "source": [
    "phrase=word.split(\"\\n\")"
   ]
  },
  {
   "cell_type": "code",
   "execution_count": 14,
   "metadata": {},
   "outputs": [],
   "source": [
    "from numpy.random import choice"
   ]
  },
  {
   "cell_type": "code",
   "execution_count": 19,
   "metadata": {},
   "outputs": [
    {
     "name": "stdout",
     "output_type": "stream",
     "text": [
      "他的 我的 蒼海 闃靜 溟濛\n",
      "闃靜 濫觴 你的 驚鴻 匆匆 白雲蒼狗\n",
      "他的 我 白雲蒼狗 他 我\n",
      "他 你 他的 溟濛 我 濫觴\n"
     ]
    }
   ],
   "source": [
    "n = randint(3,6)\n",
    "\n",
    "for i in range(n):\n",
    "    k = randint(5,7)\n",
    "    egg = choice(phrase,k)\n",
    "    ham = ' '.join(egg)\n",
    "    print(ham)"
   ]
  }
 ],
 "metadata": {
  "kernelspec": {
   "display_name": "Python 3",
   "language": "python",
   "name": "python3"
  },
  "language_info": {
   "codemirror_mode": {
    "name": "ipython",
    "version": 3
   },
   "file_extension": ".py",
   "mimetype": "text/x-python",
   "name": "python",
   "nbconvert_exporter": "python",
   "pygments_lexer": "ipython3",
   "version": "3.7.3"
  }
 },
 "nbformat": 4,
 "nbformat_minor": 2
}
