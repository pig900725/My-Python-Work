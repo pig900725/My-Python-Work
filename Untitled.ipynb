{
 "cells": [
  {
   "cell_type": "code",
   "execution_count": 6,
   "metadata": {},
   "outputs": [
    {
     "name": "stdout",
     "output_type": "stream",
     "text": [
      "請輸入你的體重(公斤):60\n",
      "請輸入你的身高(公尺):1.73\n",
      "正常範圍\n"
     ]
    }
   ],
   "source": [
    "a=float(input('請輸入你的體重(公斤):'))\n",
    "b=float(input('請輸入你的身高(公尺):'))\n",
    "BMI=a/(b*b)\n",
    "if BMI<18.5:\n",
    "    print('體重過輕')\n",
    "elif 18.5<=BMI<24:\n",
    "    print('正常範圍')\n",
    "elif 24<=BMI<27:\n",
    "    print('過胖')\n",
    "elif 27<=BMI<30:\n",
    "    print('輕度肥胖')\n",
    "elif 30<=BMI<35:\n",
    "    print('中度肥胖')\n",
    "else:\n",
    "    print('肥死')"
   ]
  },
  {
   "cell_type": "code",
   "execution_count": null,
   "metadata": {},
   "outputs": [],
   "source": []
  }
 ],
 "metadata": {
  "kernelspec": {
   "display_name": "Python 3",
   "language": "python",
   "name": "python3"
  },
  "language_info": {
   "codemirror_mode": {
    "name": "ipython",
    "version": 3
   },
   "file_extension": ".py",
   "mimetype": "text/x-python",
   "name": "python",
   "nbconvert_exporter": "python",
   "pygments_lexer": "ipython3",
   "version": "3.7.3"
  }
 },
 "nbformat": 4,
 "nbformat_minor": 2
}
