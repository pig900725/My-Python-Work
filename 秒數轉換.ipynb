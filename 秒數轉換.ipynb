{
 "cells": [
  {
   "cell_type": "code",
   "execution_count": 3,
   "metadata": {},
   "outputs": [],
   "source": [
    "%matplotlib inline\n",
    "\n",
    "import numpy as np \n",
    "import matplotlib.pyplot as pit \n",
    "import pandas as pd"
   ]
  },
  {
   "cell_type": "code",
   "execution_count": null,
   "metadata": {},
   "outputs": [
    {
     "name": "stdout",
     "output_type": "stream",
     "text": [
      "秒數換算機\n",
      "請輸入秒數:40\n",
      "0 時 0 分 40 秒\n",
      "請輸入秒數:2000\n",
      "0 時 33 分 20 秒\n",
      "請輸入秒數:3600\n",
      "1 時 0 分 0 秒\n",
      "請輸入秒數:86400\n",
      "24 時 0 分 0 秒\n"
     ]
    }
   ],
   "source": [
    "print(\"秒數換算機\")\n",
    "a = 0 \n",
    "h = 0\n",
    "m = 0\n",
    "s = 0\n",
    "while(True):\n",
    "    sec = input(\"請輸入秒數:\")\n",
    "    a = float(sec)\n",
    "    h = a/3600\n",
    "    m = a%3600/60\n",
    "    s = a%3600%60\n",
    "    print(int(h),\"時\",int(m),\"分\",int(s),\"秒\")\n",
    "    "
   ]
  },
  {
   "cell_type": "code",
   "execution_count": null,
   "metadata": {},
   "outputs": [],
   "source": []
  }
 ],
 "metadata": {
  "kernelspec": {
   "display_name": "Python 3",
   "language": "python",
   "name": "python3"
  },
  "language_info": {
   "codemirror_mode": {
    "name": "ipython",
    "version": 3
   },
   "file_extension": ".py",
   "mimetype": "text/x-python",
   "name": "python",
   "nbconvert_exporter": "python",
   "pygments_lexer": "ipython3",
   "version": "3.7.3"
  }
 },
 "nbformat": 4,
 "nbformat_minor": 2
}
