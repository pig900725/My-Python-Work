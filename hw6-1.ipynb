{
 "cells": [
  {
   "cell_type": "code",
   "execution_count": 6,
   "metadata": {},
   "outputs": [
    {
     "name": "stdout",
     "output_type": "stream",
     "text": [
      "抗戰勝利: 1945-08-15\n",
      "二戰結束: 1945-09-02\n",
      "開國典禮: 1949-10-01\n",
      "當前日期: 2019-10-22\n"
     ]
    }
   ],
   "source": [
    "import datetime\n",
    "form ='%Y-%m-%d'\n",
    "date1=datetime.date(1945,8,15)\n",
    "print('抗戰勝利:',date1.strftime(form))\n",
    "date2=date1+datetime.timedelta(days=18)\n",
    "print('二戰結束:',date2.strftime(form))\n",
    "date3=date2.replace(year=1949,month=10,day=1)\n",
    "print('開國典禮:',date3.strftime(form))\n",
    "date4=datetime.date.today()\n",
    "print('當前日期:',date4.strftime(form))"
   ]
  },
  {
   "cell_type": "code",
   "execution_count": null,
   "metadata": {},
   "outputs": [],
   "source": []
  },
  {
   "cell_type": "code",
   "execution_count": null,
   "metadata": {},
   "outputs": [],
   "source": []
  }
 ],
 "metadata": {
  "kernelspec": {
   "display_name": "Python 3",
   "language": "python",
   "name": "python3"
  },
  "language_info": {
   "codemirror_mode": {
    "name": "ipython",
    "version": 3
   },
   "file_extension": ".py",
   "mimetype": "text/x-python",
   "name": "python",
   "nbconvert_exporter": "python",
   "pygments_lexer": "ipython3",
   "version": "3.7.3"
  }
 },
 "nbformat": 4,
 "nbformat_minor": 2
}
