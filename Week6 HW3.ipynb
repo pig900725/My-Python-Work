{
 "cells": [
  {
   "cell_type": "code",
   "execution_count": 1,
   "metadata": {},
   "outputs": [],
   "source": [
    "%matplotlib inline\n",
    "\n",
    "import numpy as np\n",
    "import matplotlib.pyplot as plt\n",
    "import pandas as pd"
   ]
  },
  {
   "cell_type": "code",
   "execution_count": 3,
   "metadata": {},
   "outputs": [
    {
     "name": "stdout",
     "output_type": "stream",
     "text": [
      "請輸入西元出生年:1996\n",
      "你的生肖是'鼠'\n"
     ]
    }
   ],
   "source": [
    "year=input(\"請輸入西元出生年:\")\n",
    "year=int(year)\n",
    "year-=1900\n",
    "zodiac=year%12\n",
    "if zodiac==0:\n",
    "    print(\"你的生肖是'鼠'\")\n",
    "elif zodiac==1:\n",
    "    print(\"你的生肖是'牛'\")\n",
    "elif zodiac==2:\n",
    "    print(\"你的生肖是'虎'\")\n",
    "elif zodiac==3:\n",
    "    print(\"你的生肖是'兔'\")\n",
    "elif zodiac==4:\n",
    "    print(\"你的生肖是'龍'\")\n",
    "elif zodiac==5:\n",
    "    print(\"你的生肖是'蛇'\")\n",
    "elif zodiac==6:\n",
    "    print(\"你的生肖是'馬'\")\n",
    "elif zodiac==7:\n",
    "    print(\"你的生肖是'羊'\")\n",
    "elif zodiac==8:\n",
    "    print(\"你的生肖是'猴'\")\n",
    "elif zodiac==9:\n",
    "    print(\"你的生肖是'雞'\")\n",
    "elif zodiac==10:\n",
    "    print(\"你的生肖是'狗'\")\n",
    "else:\n",
    "    print(\"你的生肖是'豬'\")"
   ]
  },
  {
   "cell_type": "code",
   "execution_count": null,
   "metadata": {},
   "outputs": [],
   "source": []
  }
 ],
 "metadata": {
  "kernelspec": {
   "display_name": "Python 3",
   "language": "python",
   "name": "python3"
  },
  "language_info": {
   "codemirror_mode": {
    "name": "ipython",
    "version": 3
   },
   "file_extension": ".py",
   "mimetype": "text/x-python",
   "name": "python",
   "nbconvert_exporter": "python",
   "pygments_lexer": "ipython3",
   "version": "3.7.3"
  }
 },
 "nbformat": 4,
 "nbformat_minor": 2
}
