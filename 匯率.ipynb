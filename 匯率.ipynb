{
 "cells": [
  {
   "cell_type": "code",
   "execution_count": 2,
   "metadata": {},
   "outputs": [
    {
     "name": "stdout",
     "output_type": "stream",
     "text": [
      "美金換算台幣 [3063.25624, 6126.51248, 9189.76872]\n",
      "歐元換算台幣 [3368.14214, 6736.28428, 10104.42642]\n",
      "英鎊換算台幣 [3876.27508, 7752.55016, 11628.82524]\n"
     ]
    }
   ],
   "source": [
    "price=[100,200,300]\n",
    "c=30.6325624\n",
    "d=33.6814214\n",
    "e=38.7627508\n",
    "L=[]\n",
    "M=[]\n",
    "N=[]\n",
    "for p in price:\n",
    "    L.append(p*c)\n",
    "    M.append(p*d)\n",
    "    N.append(p*e)\n",
    "print('美金換算台幣',L)\n",
    "print('歐元換算台幣',M)\n",
    "print('英鎊換算台幣',N)\n"
   ]
  },
  {
   "cell_type": "code",
   "execution_count": null,
   "metadata": {},
   "outputs": [],
   "source": []
  }
 ],
 "metadata": {
  "kernelspec": {
   "display_name": "Python 3",
   "language": "python",
   "name": "python3"
  },
  "language_info": {
   "codemirror_mode": {
    "name": "ipython",
    "version": 3
   },
   "file_extension": ".py",
   "mimetype": "text/x-python",
   "name": "python",
   "nbconvert_exporter": "python",
   "pygments_lexer": "ipython3",
   "version": "3.7.3"
  }
 },
 "nbformat": 4,
 "nbformat_minor": 2
}
