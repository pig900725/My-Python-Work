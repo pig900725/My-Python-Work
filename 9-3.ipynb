{
 "cells": [
  {
   "cell_type": "code",
   "execution_count": 1,
   "metadata": {},
   "outputs": [],
   "source": [
    "%matplotlib inline\n",
    "import numpy as np\n",
    "import matplotlib.pyplot as plt\n",
    "import pandas as pd"
   ]
  },
  {
   "cell_type": "code",
   "execution_count": null,
   "metadata": {},
   "outputs": [],
   "source": [
    "def 猜數字遊戲():\n",
    "    答案=random.randint(1,101) \n",
    "    猜的次數=10\n",
    "    t=0\n",
    "    print(\"這是猜數字的遊戲！多猜一次加十元！但別擔心，最多一百元~\")\n",
    "    while t<猜的次數:\n",
    "        try:\n",
    "            數字=int(input(\"我猜: \"))\n",
    "            print(f\"你猜:{數字}\")\n",
    "            if 數字>答案:\n",
    "                print(\"太大了\")\n",
    "            elif 數字<答案:\n",
    "                print(\"太小了\")\n",
    "            else:\n",
    "                print(\"運氣不錯給你賽到\")\n",
    "                break\n",
    "        finally:\n",
    "            t+=1\n",
    "            print(\"－－－－－－請注意：剩下\"+str(猜的次數-t)+\"次，你還差\"+str(10*t)+\"元－－－－－－\")\n",
    "    else:\n",
    "        print(\"敢亂猜ㄟ!沒被打過?\")"
   ]
  }
 ],
 "metadata": {
  "kernelspec": {
   "display_name": "Python 3",
   "language": "python",
   "name": "python3"
  },
  "language_info": {
   "codemirror_mode": {
    "name": "ipython",
    "version": 3
   },
   "file_extension": ".py",
   "mimetype": "text/x-python",
   "name": "python",
   "nbconvert_exporter": "python",
   "pygments_lexer": "ipython3",
   "version": "3.7.3"
  }
 },
 "nbformat": 4,
 "nbformat_minor": 2
}
