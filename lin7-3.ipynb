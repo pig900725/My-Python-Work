{
 "cells": [
  {
   "cell_type": "code",
   "execution_count": 4,
   "metadata": {},
   "outputs": [
    {
     "name": "stdout",
     "output_type": "stream",
     "text": [
      "猜一數字1-1001\n",
      "在大點\n",
      "猜一數字1-1002\n",
      "在大點\n",
      "猜一數字1-1003\n",
      "在大點\n",
      "猜一數字1-10055\n",
      "小點\n",
      "猜一數字1-10040\n",
      "小點\n",
      "猜一數字1-10037\n",
      "小點\n",
      "猜一數字1-10022\n",
      "小點\n",
      "猜一數字1-10025\n",
      "小點\n",
      "猜一數字1-10011\n",
      "在大點\n",
      "猜一數字1-10015\n",
      "在大點\n",
      "猜一數字1-10018\n",
      "在大點\n",
      "猜一數字1-10019\n",
      "在大點\n",
      "猜一數字1-10020\n",
      "恭喜\n"
     ]
    }
   ],
   "source": [
    "import random\n",
    "ans=random.randint(1,101)\n",
    "mini=1\n",
    "maxi=100\n",
    "while True:\n",
    "    guess=int(input('猜一數字1-100'))\n",
    "    if guess==ans:\n",
    "        print('恭喜')\n",
    "        break\n",
    "    elif guess< ans:\n",
    "        mini=guess\n",
    "        print('在大點')\n",
    "    elif guess>ans:\n",
    "        maxi=guess\n",
    "        print('小點')"
   ]
  },
  {
   "cell_type": "code",
   "execution_count": null,
   "metadata": {},
   "outputs": [],
   "source": []
  }
 ],
 "metadata": {
  "kernelspec": {
   "display_name": "Python 3",
   "language": "python",
   "name": "python3"
  },
  "language_info": {
   "codemirror_mode": {
    "name": "ipython",
    "version": 3
   },
   "file_extension": ".py",
   "mimetype": "text/x-python",
   "name": "python",
   "nbconvert_exporter": "python",
   "pygments_lexer": "ipython3",
   "version": "3.7.3"
  }
 },
 "nbformat": 4,
 "nbformat_minor": 2
}
