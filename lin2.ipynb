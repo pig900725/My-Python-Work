{
 "cells": [
  {
   "cell_type": "code",
   "execution_count": 3,
   "metadata": {},
   "outputs": [
    {
     "name": "stdout",
     "output_type": "stream",
     "text": [
      "你讀哪?政治大學\n",
      "我也是山區孩童\n"
     ]
    }
   ],
   "source": [
    "msg=input('你讀哪?')\n",
    "while msg!='政治大學':\n",
    "    if msg =='淡江大學':\n",
    "        print('有夠潮濕')\n",
    "        msg=input()\n",
    "    elif msg==\"台北大學\":\n",
    "        print(\"我家隔壁\")\n",
    "        msg=input()\n",
    "    elif msg==(\"清華大學\"):\n",
    "        print('偏鄉')\n",
    "        msg=input()\n",
    "else:\n",
    "    print('我也是山區孩童')"
   ]
  },
  {
   "cell_type": "code",
   "execution_count": null,
   "metadata": {},
   "outputs": [],
   "source": []
  },
  {
   "cell_type": "code",
   "execution_count": null,
   "metadata": {},
   "outputs": [],
   "source": []
  }
 ],
 "metadata": {
  "kernelspec": {
   "display_name": "Python 3",
   "language": "python",
   "name": "python3"
  },
  "language_info": {
   "codemirror_mode": {
    "name": "ipython",
    "version": 3
   },
   "file_extension": ".py",
   "mimetype": "text/x-python",
   "name": "python",
   "nbconvert_exporter": "python",
   "pygments_lexer": "ipython3",
   "version": "3.7.3"
  }
 },
 "nbformat": 4,
 "nbformat_minor": 2
}
